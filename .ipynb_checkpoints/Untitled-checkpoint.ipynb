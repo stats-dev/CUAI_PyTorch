{
 "cells": [
  {
   "cell_type": "markdown",
   "metadata": {},
   "source": [
    "# Tensor Manipulation 1-2"
   ]
  },
  {
   "cell_type": "markdown",
   "metadata": {},
   "source": [
    "## Import"
   ]
  },
  {
   "cell_type": "code",
   "execution_count": 2,
   "metadata": {},
   "outputs": [],
   "source": [
    "import numpy as np\n",
    "import torch"
   ]
  },
  {
   "cell_type": "markdown",
   "metadata": {},
   "source": [
    "## Numpy Review\n",
    "### 넘파이의 1차원 배열"
   ]
  },
  {
   "cell_type": "code",
   "execution_count": 4,
   "metadata": {},
   "outputs": [
    {
     "name": "stdout",
     "output_type": "stream",
     "text": [
      "[0. 1. 2. 3. 4. 5. 6.]\n"
     ]
    }
   ],
   "source": [
    "t = np.array([0.,1.,2.,3.,4.,5.,6])\n",
    "print(t)"
   ]
  },
  {
   "cell_type": "code",
   "execution_count": 5,
   "metadata": {},
   "outputs": [
    {
     "name": "stdout",
     "output_type": "stream",
     "text": [
      "t의 rank:  1\n",
      "t의 shape:  (7,)\n"
     ]
    }
   ],
   "source": [
    "print('t의 rank: ', t.ndim)\n",
    "print('t의 shape: ', t.shape)"
   ]
  },
  {
   "cell_type": "markdown",
   "metadata": {},
   "source": [
    "t는 1차원을 가지는 벡터입니다.\n",
    "1개 차원에 7개 원소를 가지고 있습니다."
   ]
  },
  {
   "cell_type": "markdown",
   "metadata": {},
   "source": [
    "### 원소 접근 방법 : 인덱스"
   ]
  },
  {
   "cell_type": "code",
   "execution_count": 8,
   "metadata": {},
   "outputs": [
    {
     "name": "stdout",
     "output_type": "stream",
     "text": [
      "t[0] t[1] t[-1] =  0.0 1.0 6.0\n",
      "t[2:5] t[4: -1] =  [2. 3. 4.] [4. 5.]\n",
      "t[:2] t[3:]      = [0. 1.] [3. 4. 5. 6.]\n"
     ]
    }
   ],
   "source": [
    "print('t[0] t[1] t[-1] = ', t[0], t[1], t[-1]) #원소\n",
    "print('t[2:5] t[4: -1] = ', t[2:5], t[4:-1]) # slicing\n",
    "print('t[:2] t[3:]      =', t[:2], t[3:]) # slicing"
   ]
  },
  {
   "cell_type": "markdown",
   "metadata": {},
   "source": [
    "* 원소 하나씩 접근할 때에는 벡터[인덱스] 방식을 활용합니다.  \n",
    "* slicing은 말 그대로 벡터를 인덱스 별로 나누어 접근하는 방법입니다.  \n",
    "* 주의할 점은 마지막에서 첫번째는 접근하지 않습니다.  \n",
    "예를 들면,  t[2:5]는 t의 2번째 인덱스 부터 4번쩨(5-1번째) 까지 접근합니다.  \n",
    "-1 인덱스 역시 마지막에서 첫번째 이므로, 원소 하나씩 접근할 때는 마지막 인덱스이고, slicing에서는 마지막에서 하나 전까지 인덱스가 됩니다.  \n",
    "* 공백은 완전 처음 / 마지막을 의미합니다."
   ]
  },
  {
   "cell_type": "markdown",
   "metadata": {},
   "source": [
    "## 넘파이의 2차원 배열"
   ]
  },
  {
   "cell_type": "code",
   "execution_count": null,
   "metadata": {},
   "outputs": [],
   "source": [
    "t = np.array([[1., 2., 3.]])"
   ]
  }
 ],
 "metadata": {
  "kernelspec": {
   "display_name": "Python 3",
   "language": "python",
   "name": "python3"
  },
  "language_info": {
   "codemirror_mode": {
    "name": "ipython",
    "version": 3
   },
   "file_extension": ".py",
   "mimetype": "text/x-python",
   "name": "python",
   "nbconvert_exporter": "python",
   "pygments_lexer": "ipython3",
   "version": "3.7.3"
  }
 },
 "nbformat": 4,
 "nbformat_minor": 2
}
